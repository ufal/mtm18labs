{
 "cells": [
  {
   "cell_type": "markdown",
   "metadata": {},
   "source": [
    "# Visualizing Sentence Embeddings"
   ]
  },
  {
   "cell_type": "code",
   "execution_count": null,
   "metadata": {
    "collapsed": false
   },
   "outputs": [],
   "source": [
    "import os\n",
    "import sys\n",
    "import numpy as np\n",
    "import tensorflow as tf\n",
    "\n",
    "from tensorflow.contrib.tensorboard.plugins import projector\n",
    "\n",
    "# Make sure Neural Monkey is in your PYTHONPATH before importing it:\n",
    "sys.path.append(os.path.expanduser(\"~/neuralmonkey\"))\n",
    "\n",
    "from neuralmonkey.experiment import Experiment\n",
    "from neuralmonkey.run import load_runtime_config\n",
    "from neuralmonkey import dataset"
   ]
  },
  {
   "cell_type": "markdown",
   "metadata": {},
   "source": [
    "## 1. Load Neural Monkey model"
   ]
  },
  {
   "cell_type": "code",
   "execution_count": null,
   "metadata": {
    "collapsed": false
   },
   "outputs": [],
   "source": [
    "exp = Experiment(\"mmmt-en-de/experiment.ini\")\n",
    "exp.build_model()"
   ]
  },
  {
   "cell_type": "markdown",
   "metadata": {},
   "source": [
    "## 2. Load data"
   ]
  },
  {
   "cell_type": "code",
   "execution_count": null,
   "metadata": {
    "collapsed": false
   },
   "outputs": [],
   "source": [
    "run_cfg = load_runtime_config(\"val-data.ini\")\n",
    "data = run_cfg.test_datasets[0]"
   ]
  },
  {
   "cell_type": "markdown",
   "metadata": {},
   "source": [
    "## 3. Run model on data"
   ]
  },
  {
   "cell_type": "code",
   "execution_count": null,
   "metadata": {
    "collapsed": false
   },
   "outputs": [],
   "source": [
    "_, outputs = exp.run_model(data, batch_size=256)"
   ]
  },
  {
   "cell_type": "code",
   "execution_count": null,
   "metadata": {
    "collapsed": false
   },
   "outputs": [],
   "source": [
    "outputs['encoded'].shape"
   ]
  },
  {
   "cell_type": "markdown",
   "metadata": {},
   "source": [
    "## 4. Visualize data in Projector"
   ]
  },
  {
   "cell_type": "code",
   "execution_count": null,
   "metadata": {
    "collapsed": false
   },
   "outputs": [],
   "source": [
    "# Save embeddings in TSV format\n",
    "np.savetxt(\"mmmt-en-de/embeddings.tsv\", outputs['encoded'], delimiter='\\t')"
   ]
  },
  {
   "cell_type": "code",
   "execution_count": null,
   "metadata": {
    "collapsed": false
   },
   "outputs": [],
   "source": [
    "# Save source and output sentences in TSV format\n",
    "with open(\"mmmt-en-de/metadata.tsv\", \"w\") as f:\n",
    "    # TSV header\n",
    "    print(\"source\\toutput\", file=f)\n",
    "\n",
    "    # Data\n",
    "    for src_words, tgt_words in zip(data.get_series('source'), outputs['target']):\n",
    "        src = ' '.join(src_words)\n",
    "        tgt = ' '.join(tgt_words)\n",
    "        print(\"{}\\t{}\".format(src, tgt), file=f)"
   ]
  },
  {
   "cell_type": "code",
   "execution_count": null,
   "metadata": {
    "collapsed": false
   },
   "outputs": [],
   "source": [
    "# Create Projector config object\n",
    "config = projector.ProjectorConfig()\n",
    "emb = config.embeddings.add()\n",
    "emb.tensor_name = \"sent_embeddings\"\n",
    "emb.tensor_path = \"embeddings.tsv\"\n",
    "emb.metadata_path = \"metadata.tsv\"\n",
    "\n",
    "# Write Projector config to TensorBoard\n",
    "writer = tf.summary.FileWriter(\"mmmt-en-de\")\n",
    "projector.visualize_embeddings(writer, config)"
   ]
  }
 ],
 "metadata": {
  "anaconda-cloud": {},
  "kernelspec": {
   "display_name": "Python [conda env:py35_tf_cpu]",
   "language": "python",
   "name": "conda-env-py35_tf_cpu-py"
  },
  "language_info": {
   "codemirror_mode": {
    "name": "ipython",
    "version": 3
   },
   "file_extension": ".py",
   "mimetype": "text/x-python",
   "name": "python",
   "nbconvert_exporter": "python",
   "pygments_lexer": "ipython3",
   "version": "3.5.2"
  }
 },
 "nbformat": 4,
 "nbformat_minor": 2
}
