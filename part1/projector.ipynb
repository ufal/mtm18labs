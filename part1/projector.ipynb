{
 "cells": [
  {
   "cell_type": "markdown",
   "metadata": {},
   "source": [
    "# Visualizing Sentence Embeddings"
   ]
  },
  {
   "cell_type": "code",
   "execution_count": 10,
   "metadata": {
    "collapsed": false
   },
   "outputs": [],
   "source": [
    "import os\n",
    "import sys\n",
    "import numpy as np\n",
    "import tensorflow as tf\n",
    "\n",
    "from tensorflow.contrib.tensorboard.plugins import projector\n",
    "\n",
    "# sys.path.append(\"~/neuralmonkey\")\n",
    "\n",
    "from neuralmonkey.experiment import Experiment\n",
    "from neuralmonkey.run import load_runtime_config\n",
    "from neuralmonkey import dataset"
   ]
  },
  {
   "cell_type": "markdown",
   "metadata": {},
   "source": [
    "## 1. Load Neural Monkey model"
   ]
  },
  {
   "cell_type": "code",
   "execution_count": 11,
   "metadata": {
    "collapsed": false
   },
   "outputs": [
    {
     "name": "stderr",
     "output_type": "stream",
     "text": [
      "\u001b[34m2018-08-25 17:25:11\u001b[0m: Loading INI file: 'mmmt-en-de/experiment.ini'\n",
      "\u001b[33m2018-08-25 17:25:11\u001b[0m: INI file is parsed.\n",
      "\u001b[33m2018-08-25 17:25:11\u001b[0m: Building model based on the config.\n",
      "\u001b[33m2018-08-25 17:25:11\u001b[0m: Vocabulary from wordlist loaded, containing 12142 words\n",
      "\u001b[33m2018-08-25 17:25:11\u001b[0m: Sample of the vocabulary: ['hard-hat', 'pineapple', 'devil', 'ons', 'boxes']\n",
      "\u001b[33m2018-08-25 17:25:11\u001b[0m: Vocabulary from wordlist loaded, containing 30003 words\n",
      "\u001b[33m2018-08-25 17:25:11\u001b[0m: Sample of the vocabulary: ['abgesägten', 'Kniestrümpfen', 'X', 'Münztelefon', 'Hunderennens']\n",
      "\u001b[33m2018-08-25 17:25:11\u001b[0m: Initializing decoder, name: 'decoder'\n",
      "\u001b[33m2018-08-25 17:25:11\u001b[0m: Using linear projection of encoders as the initial state\n",
      "\u001b[33m2018-08-25 17:25:11\u001b[0m: No output projection specified - using tanh projection\n",
      "\u001b[33m2018-08-25 17:25:12\u001b[0m: The inferred rnn_size of this encoder projection will be 600\n",
      "\u001b[33m2018-08-25 17:25:12\u001b[0m: Decoder initalized. Cost var: Tensor(\"decoder/Mean:0\", shape=(), dtype=float32)\n",
      "\u001b[33m2018-08-25 17:25:12\u001b[0m: Runtime logits tensor: Tensor(\"decoder/while_1/Exit:0\", shape=(?, ?, 30003), dtype=float32)\n",
      "\u001b[31m2018-08-25 17:25:12\u001b[0m: Top-level decoder encoder does not have the 'data_id' attribute\n",
      "\u001b[33m2018-08-25 17:25:12\u001b[0m: Blessing toplevel tensors for tensor runner:\n",
      "\u001b[33m2018-08-25 17:25:12\u001b[0m: Model built.\n"
     ]
    }
   ],
   "source": [
    "exp = Experiment(\"mmmt-en-de/experiment.ini\")\n",
    "exp.build_model()"
   ]
  },
  {
   "cell_type": "markdown",
   "metadata": {},
   "source": [
    "## 2. Load data"
   ]
  },
  {
   "cell_type": "code",
   "execution_count": 12,
   "metadata": {
    "collapsed": false
   },
   "outputs": [
    {
     "name": "stderr",
     "output_type": "stream",
     "text": [
      "\u001b[34m2018-08-25 17:25:12\u001b[0m: Loading INI file: 'val-data.ini'\n",
      "\u001b[33m2018-08-25 17:25:12\u001b[0m: INI file is parsed.\n",
      "\u001b[33m2018-08-25 17:25:12\u001b[0m: Building model based on the config.\n",
      "\u001b[33m2018-08-25 17:25:12\u001b[0m: Initializing dataset with: target, source\n",
      "\u001b[33m2018-08-25 17:25:12\u001b[0m: Dataset length: 1014\n",
      "\u001b[33m2018-08-25 17:25:12\u001b[0m: Model built.\n"
     ]
    }
   ],
   "source": [
    "run_cfg = load_runtime_config(\"val-data.ini\")\n",
    "data = run_cfg.test_datasets[0]"
   ]
  },
  {
   "cell_type": "markdown",
   "metadata": {},
   "source": [
    "## 3. Run model on data"
   ]
  },
  {
   "cell_type": "code",
   "execution_count": 13,
   "metadata": {
    "collapsed": false
   },
   "outputs": [
    {
     "name": "stdout",
     "output_type": "stream",
     "text": [
      "INFO:tensorflow:Restoring parameters from mmmt-en-de/variables.data\n"
     ]
    },
    {
     "name": "stderr",
     "output_type": "stream",
     "text": [
      "\u001b[33m2018-08-25 17:25:12\u001b[0m: Default variable file 'mmmt-en-de/variables.data' will be used for loading variables.\n",
      "\u001b[33m2018-08-25 17:25:12\u001b[0m: Loading variables from mmmt-en-de/variables.data\n",
      "\u001b[33m2018-08-25 17:25:14\u001b[0m: Variables loaded from mmmt-en-de/variables.data\n"
     ]
    }
   ],
   "source": [
    "_, outputs = exp.run_model(data, batch_size=256)"
   ]
  },
  {
   "cell_type": "code",
   "execution_count": 14,
   "metadata": {
    "collapsed": false
   },
   "outputs": [
    {
     "data": {
      "text/plain": [
       "(1014, 600)"
      ]
     },
     "execution_count": 14,
     "metadata": {},
     "output_type": "execute_result"
    }
   ],
   "source": [
    "outputs['encoded'].shape"
   ]
  },
  {
   "cell_type": "markdown",
   "metadata": {},
   "source": [
    "## 4. Visualize data in Projector"
   ]
  },
  {
   "cell_type": "code",
   "execution_count": 15,
   "metadata": {
    "collapsed": false
   },
   "outputs": [],
   "source": [
    "# Save embeddings in TSV format\n",
    "np.savetxt(\"mmmt-en-de/embeddings.tsv\", outputs['encoded'], delimiter='\\t')"
   ]
  },
  {
   "cell_type": "code",
   "execution_count": 16,
   "metadata": {
    "collapsed": false
   },
   "outputs": [],
   "source": [
    "# Save source and output sentences in TSV format\n",
    "with open(\"mmmt-en-de/metadata.tsv\", \"w\") as f:\n",
    "    # TSV header\n",
    "    print(\"source\\toutput\", file=f)\n",
    "\n",
    "    # Data\n",
    "    for src_words, tgt_words in zip(data.get_series('source'), outputs['target']):\n",
    "        src = ' '.join(src_words)\n",
    "        tgt = ' '.join(tgt_words)\n",
    "        print(\"{}\\t{}\".format(src, tgt), file=f)"
   ]
  },
  {
   "cell_type": "code",
   "execution_count": 17,
   "metadata": {
    "collapsed": false
   },
   "outputs": [],
   "source": [
    "# Create Projector config object\n",
    "config = projector.ProjectorConfig()\n",
    "emb = config.embeddings.add()\n",
    "emb.tensor_name = \"sent_embeddings\"\n",
    "emb.tensor_path = \"embeddings.tsv\"\n",
    "emb.metadata_path = \"metadata.tsv\"\n",
    "\n",
    "# Write Projector config to TensorBoard\n",
    "writer = tf.summary.FileWriter(\"mmmt-en-de\")\n",
    "projector.visualize_embeddings(writer, config)"
   ]
  }
 ],
 "metadata": {
  "anaconda-cloud": {},
  "kernelspec": {
   "display_name": "Python [conda env:py35_tf_cpu]",
   "language": "python",
   "name": "conda-env-py35_tf_cpu-py"
  },
  "language_info": {
   "codemirror_mode": {
    "name": "ipython",
    "version": 3
   },
   "file_extension": ".py",
   "mimetype": "text/x-python",
   "name": "python",
   "nbconvert_exporter": "python",
   "pygments_lexer": "ipython3",
   "version": "3.5.2"
  }
 },
 "nbformat": 4,
 "nbformat_minor": 2
}
